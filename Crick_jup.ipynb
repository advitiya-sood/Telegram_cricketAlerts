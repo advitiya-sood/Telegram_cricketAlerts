{
 "cells": [
  {
   "cell_type": "code",
   "execution_count": 1,
   "metadata": {},
   "outputs": [],
   "source": [
    "import requests as req\n",
    "import json\n",
    "import telebot\n",
    "import os \n",
    "from pathlib import Path\n",
    "from datetime import  date\n"
   ]
  },
  {
   "cell_type": "code",
   "execution_count": 2,
   "metadata": {},
   "outputs": [
    {
     "name": "stdout",
     "output_type": "stream",
     "text": [
      "13500756\n"
     ]
    }
   ],
   "source": [
    "Main_API= \"https://hs-consumer-api.espncricinfo.com/v1/pages/matches/current?lang=en&latest=true\"\n",
    "\n",
    "\n",
    "TelegramApp_APi_id=os.getenv(\"TelegramApp_APi_id\")\n",
    "TelegramApp_api_idHash=os.getenv(\"TelegramApp_api_idHash\")\n",
    "Bot_token=os.getenv(\"Bot_token\")\n",
    "\n",
    "\n",
    "response = req.get(Main_API).json()\n",
    "bot=telebot.TeleBot(Bot_token)\n",
    "\n",
    "\n",
    "\n",
    "# File handeling\n",
    "with open(\"Data_file.json\",\"w\") as f:\n",
    "    json.dump(response,f,indent=4)\n",
    "\n",
    "int_matches=response[\"matches\"]\n",
    "\n",
    "today=str(date.today())\n",
    "\n",
    "\n",
    "\n",
    "\n",
    "# send score for all matches\n",
    "@bot.message_handler(commands=['Scores'])\n",
    "def Send_score(message):\n",
    "    for match in int_matches:\n",
    "        if match[\"startDate\"].split('T')[0]==today and match[\"internationalClassId\"] in [3,9]:\n",
    "            bot.reply_to(message, f'{match[\"slug\"]}\\nCurrent score is {match[\"teams\"][1][\"score\"]}')\n",
    "\n",
    "\n",
    "\n",
    "\n",
    "\n",
    "bot.polling()\n",
    "\n",
    "\n",
    "\n",
    "\n"
   ]
  }
 ],
 "metadata": {
  "kernelspec": {
   "display_name": "Python 3.10.7 ('Crick_env': venv)",
   "language": "python",
   "name": "python3"
  },
  "language_info": {
   "codemirror_mode": {
    "name": "ipython",
    "version": 3
   },
   "file_extension": ".py",
   "mimetype": "text/x-python",
   "name": "python",
   "nbconvert_exporter": "python",
   "pygments_lexer": "ipython3",
   "version": "3.10.7"
  },
  "orig_nbformat": 4,
  "vscode": {
   "interpreter": {
    "hash": "b199e38bf65f2dfbc85e8b06c7646939c2a2aa21b78787491a9e2317c64d12cd"
   }
  }
 },
 "nbformat": 4,
 "nbformat_minor": 2
}
